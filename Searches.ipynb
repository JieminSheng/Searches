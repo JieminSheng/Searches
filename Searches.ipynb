{
 "cells": [
  {
   "cell_type": "code",
   "execution_count": 52,
   "id": "652c65f3",
   "metadata": {
    "scrolled": true
   },
   "outputs": [],
   "source": [
    "import webbrowser, time, pyautogui, random, requests, time, nltk"
   ]
  },
  {
   "cell_type": "code",
   "execution_count": 53,
   "id": "f4c8a038",
   "metadata": {},
   "outputs": [],
   "source": [
    "from nltk.corpus import wordnet as wn"
   ]
  },
  {
   "cell_type": "code",
   "execution_count": 57,
   "id": "ef8994df",
   "metadata": {},
   "outputs": [
    {
     "name": "stderr",
     "output_type": "stream",
     "text": [
      "[nltk_data] Downloading package wordnet to\n",
      "[nltk_data]     C:\\Users\\jiemi\\AppData\\Roaming\\nltk_data...\n"
     ]
    },
    {
     "data": {
      "text/plain": [
       "True"
      ]
     },
     "execution_count": 57,
     "metadata": {},
     "output_type": "execute_result"
    }
   ],
   "source": [
    "nltk.download('wordnet')"
   ]
  },
  {
   "cell_type": "code",
   "execution_count": 65,
   "id": "6f87103d",
   "metadata": {},
   "outputs": [
    {
     "name": "stdout",
     "output_type": "stream",
     "text": [
      "Input the URL or string you want to search for:dog\n"
     ]
    }
   ],
   "source": [
    "search_string = input(\"Input the URL or string you want to search for:\")"
   ]
  },
  {
   "cell_type": "code",
   "execution_count": 66,
   "id": "7971bcd0",
   "metadata": {},
   "outputs": [],
   "source": [
    "related_words = []\n",
    "desired_word_count = 1000\n",
    "for synset in wn.synsets(search_string):\n",
    "    for lemma in synset.lemmas():\n",
    "        related_words.append(lemma.name())\n",
    "        if len(related_words) >= desired_word_count:\n",
    "            break"
   ]
  },
  {
   "cell_type": "code",
   "execution_count": 67,
   "id": "3d006973",
   "metadata": {
    "scrolled": true
   },
   "outputs": [
    {
     "data": {
      "text/plain": [
       "['dog',\n",
       " 'domestic_dog',\n",
       " 'Canis_familiaris',\n",
       " 'frump',\n",
       " 'dog',\n",
       " 'dog',\n",
       " 'cad',\n",
       " 'bounder',\n",
       " 'blackguard',\n",
       " 'dog',\n",
       " 'hound',\n",
       " 'heel',\n",
       " 'frank',\n",
       " 'frankfurter',\n",
       " 'hotdog',\n",
       " 'hot_dog',\n",
       " 'dog',\n",
       " 'wiener',\n",
       " 'wienerwurst',\n",
       " 'weenie',\n",
       " 'pawl',\n",
       " 'detent',\n",
       " 'click',\n",
       " 'dog',\n",
       " 'andiron',\n",
       " 'firedog',\n",
       " 'dog',\n",
       " 'dog-iron',\n",
       " 'chase',\n",
       " 'chase_after',\n",
       " 'trail',\n",
       " 'tail',\n",
       " 'tag',\n",
       " 'give_chase',\n",
       " 'dog',\n",
       " 'go_after',\n",
       " 'track']"
      ]
     },
     "execution_count": 67,
     "metadata": {},
     "output_type": "execute_result"
    }
   ],
   "source": [
    "related_words"
   ]
  },
  {
   "cell_type": "code",
   "execution_count": 71,
   "id": "25d81783",
   "metadata": {},
   "outputs": [],
   "source": [
    "def searchAuto():\n",
    "        url = (\"https://www.bing.com/search?q=\" + related_words[i])\n",
    "        webbrowser.open(url)\n",
    "        randomVal = random.randint(10,20) \n",
    "        time.sleep(randomVal)\n",
    "        pyautogui.hotkey(\"ctrl\",\"w\")"
   ]
  },
  {
   "cell_type": "code",
   "execution_count": 72,
   "id": "fbd924af",
   "metadata": {},
   "outputs": [],
   "source": [
    "st = time.time()"
   ]
  },
  {
   "cell_type": "code",
   "execution_count": 73,
   "id": "038c7276",
   "metadata": {},
   "outputs": [
    {
     "name": "stdout",
     "output_type": "stream",
     "text": [
      "How many searches you want to perform? : 3\n",
      "Search number : 0 done!\n",
      "Search number : 1 done!\n",
      "Search number : 2 done!\n"
     ]
    }
   ],
   "source": [
    "num = int(input(\"How many searches you want to perform? : \"))\n",
    "for i in range(num): \n",
    "    searchAuto()\n",
    "    print(\"Search number :\",i,\"done!\")"
   ]
  },
  {
   "cell_type": "code",
   "execution_count": 74,
   "id": "0f55f0ab",
   "metadata": {},
   "outputs": [],
   "source": [
    "ed = time.time()"
   ]
  },
  {
   "cell_type": "code",
   "execution_count": 75,
   "id": "4e72d977",
   "metadata": {},
   "outputs": [
    {
     "name": "stdout",
     "output_type": "stream",
     "text": [
      "That took 45 seconds \n"
     ]
    }
   ],
   "source": [
    "print(f\"That took {round(ed-st)} seconds \")"
   ]
  },
  {
   "cell_type": "code",
   "execution_count": null,
   "id": "daec56a8",
   "metadata": {},
   "outputs": [],
   "source": []
  }
 ],
 "metadata": {
  "kernelspec": {
   "display_name": "Python 3 (ipykernel)",
   "language": "python",
   "name": "python3"
  },
  "language_info": {
   "codemirror_mode": {
    "name": "ipython",
    "version": 3
   },
   "file_extension": ".py",
   "mimetype": "text/x-python",
   "name": "python",
   "nbconvert_exporter": "python",
   "pygments_lexer": "ipython3",
   "version": "3.11.5"
  }
 },
 "nbformat": 4,
 "nbformat_minor": 5
}
